{
 "cells": [
  {
   "cell_type": "markdown",
   "metadata": {},
   "source": [
    "# Demo notebook for `richfile`\n",
    "\n",
    "Welcome to the demo notebook for the `richfile` python package.\\\n",
    "Below you'll find the following chapters:\n",
    "- A. Basics of conventions\n",
    "- B. Basic examples\n",
    "- C. Advanced examples\n",
    "- D. Details\n",
    "\n",
    "\n",
    "What is `richfile`?\n",
    "\n",
    "- Primarily, it set of **conventions** for saving and loading nested data structures in a human-readable format.\n",
    "- In practice, it is also a software library / API that implements these conventions.\n",
    "- The goals of the `richfile` conventions:\n",
    "    - **Human-readable**: The data saved on disk should be human-readable in a file explorer.\n",
    "    - **Directory structure**: Hierarchically organized data should be stored in a directory structure.\n",
    "    - **Versioning**: The data should be insensitive to software version changes. No loss of old data.\n",
    "    - **Customizable**: The data should be highly customizable."
   ]
  },
  {
   "cell_type": "markdown",
   "metadata": {},
   "source": [
    "## A. Basics of `richfile` python conventions\n",
    "1. richfiles are hierarchically organized directory structures that represent hierarchically organized data structures. (Similar to JSON, HDF5, etc.)\n",
    "2. Container objects like `list`, `dict`, `set`, `tuple` are represented as directories.\n",
    "3. Atomic objects like `int`, `float`, etc. are represented as files.\n",
    "4. Each directory has a `metadata.richfile` file that contains metadata about the container and its contents. This is a protected filename.\n",
    "5. Atomic objects are saved and loaded using functions that are specific to that object type. Ideally, these are libraries native to the data type (e.g. `numpy` for arrays). Native python atomic objects like `int`, `str`, etc. are saved as `.json` files."
   ]
  },
  {
   "cell_type": "markdown",
   "metadata": {
    "vscode": {
     "languageId": "plaintext"
    }
   },
   "source": [
    "#### What does a richfile look like?\n",
    "Here is an example python object:\n",
    "```python\n",
    "some_dict = {\n",
    "    \"some_list_of_int\": [1, 2, 3],\n",
    "    \"a_nested_dict\": {\n",
    "        \"some_float\": 4.5,\n",
    "        \"some_str\": \"hello\"\n",
    "        \"another_dict\": {\n",
    "            \"f\": None,\n",
    "            \"some_tuple_of_numpy_arrays\": (np.array(...), np.array(...)),\n",
    "            \"some_set_of_dicts\": {{\"a\": 1}, {\"b\": 2}},\n",
    "        }\n",
    "    }\n",
    "}\n",
    "```\n",
    "\n",
    "And the corresponding `richfile` folder structure:\n",
    "```\n",
    "some_dict.richfile (a folder containing the following folder structure)\n",
    "\n",
    "├── .metadata.richfile\n",
    "├── .typelookup.richfile\n",
    "|\n",
    "├── some_list_of_int.list\n",
    "|   ├── metadata.richfile\n",
    "|   ├── 0.int\n",
    "|   ├── 1.int\n",
    "|   ├── 2.int\n",
    "|\n",
    "├── a_nested_dict.dict\n",
    "|   ├── metadata.richfile\n",
    "|   ├── some_float.dict_item\n",
    "|   |   ├── metadata.richfile\n",
    "|   |   ├── key.str\n",
    "|   |   ├── value.float\n",
    "|   |\n",
    "|   ├── some_str.dict_item\n",
    "|   |   ├── metadata.richfile\n",
    "|   |   ├── key.str\n",
    "|   |   ├── value.str\n",
    "|   |\n",
    "|   ├── another_dict.dict_item\n",
    "|   |   ├── metadata.richfile\n",
    "|   |   ├── key.str\n",
    "|   |   ├── value.dict\n",
    "|   |   |   ├── metadata.richfile\n",
    "|   |   |   ├── f.none\n",
    "|   |   |   ├── some_tuple_of_numpy_arrays.tuple\n",
    "|   |   |   |   ├── metadata.richfile\n",
    "|   |   |   |   ├── 0.npy\n",
    "|   |   |   |   ├── 1.npy\n",
    "|   |   |   |\n",
    "|   |   |   ├── some_set_of_dicts.set\n",
    "|   |   |   |   ├── metadata.richfile\n",
    "|   |   |   |   ├── 0.dict\n",
    "|   |   |   |   |   ├── metadata.richfile\n",
    "|   |   |   |   |   ├── a.dict_item\n",
    "|   |   |   |   |   |   ├── metadata.richfile\n",
    "|   |   |   |   |   |   ├── key.str\n",
    "|   |   |   |   |   |   ├── value.int\n",
    "|   |   |   |   |   |\n",
    "|   |   |   |   |\n",
    "|   |   |   |   ├── 1.dict\n",
    "|   |   |   |   |   ├── metadata.richfile\n",
    "|   |   |   |   |   ├── b.dict_item\n",
    "|   |   |   |   |   |   ├── metadata.richfile\n",
    "|   |   |   |   |   |   ├── key.str\n",
    "|   |   |   |   |   |   ├── value.int\n",
    "|   |   |   |   |   |\n",
    "|   |   |   |   |\n",
    "|   |   |   |\n",
    "|   |   |\n",
    "|   |\n",
    "|\n",
    "```"
   ]
  },
  {
   "cell_type": "markdown",
   "metadata": {},
   "source": [
    "## B. Basic examples\n",
    "\n",
    "1. Saving data objects\n",
    "2. Exploring the saved data\n",
    "3. Loading the saved data\n",
    "4. Loading specific elements from the saved data"
   ]
  },
  {
   "cell_type": "code",
   "execution_count": 1,
   "metadata": {},
   "outputs": [],
   "source": [
    "%load_ext autoreload\n",
    "%autoreload 2\n",
    "import richfile as rf\n",
    "\n",
    "## Set path to save / load a richfile\n",
    "path = '/home/rich/Desktop/test4/data.richfile'"
   ]
  },
  {
   "cell_type": "markdown",
   "metadata": {},
   "source": [
    "#### Make a data object\n",
    "We will make a nested dictionary object and save it as a `richfile` folder."
   ]
  },
  {
   "cell_type": "code",
   "execution_count": 2,
   "metadata": {},
   "outputs": [],
   "source": [
    "import numpy as np\n",
    "\n",
    "## Save a dictionary to a richfile\n",
    "data = {\n",
    "    \"name\": \"John Doe\",\n",
    "    \"age\": 25,\n",
    "    \"address\": {\n",
    "        \"street\": \"1234 Elm St\",\n",
    "        \"zip\": None\n",
    "    },\n",
    "    \"siblings\": [\n",
    "        \"Jane\",\n",
    "        \"Jim\"\n",
    "    ],\n",
    "    \"data\": [1,2,3],\n",
    "    (1,2,3): \"complex key\",\n",
    "}"
   ]
  },
  {
   "cell_type": "markdown",
   "metadata": {},
   "source": [
    "### 1. Save the data object"
   ]
  },
  {
   "cell_type": "code",
   "execution_count": 3,
   "metadata": {},
   "outputs": [],
   "source": [
    "## Save the dictionary to a file\n",
    "r = rf.RichFile(path=path).save(obj=data, overwrite=True)"
   ]
  },
  {
   "cell_type": "markdown",
   "metadata": {},
   "source": [
    "### 2. Explore the saved data\n",
    "The folder was saved as `some_dict.richfile` on disk. We will print out the directory structure below. \n",
    "\n",
    "You can also explore the folder in your file explorer BUT DO NOT MODIFY THE FOLDER CONTENTS. You can copy data out of it, but if you modify the names or contents of the files without also updating the metadata, the data will be corrupted."
   ]
  },
  {
   "cell_type": "code",
   "execution_count": 4,
   "metadata": {},
   "outputs": [
    {
     "name": "stdout",
     "output_type": "stream",
     "text": [
      "Object tree in `richfile` directory\n",
      "Path: /home/rich/Desktop/test4/data.richfile (dict)\n",
      "├── 'name': value.json  (str)\n",
      "├── 'age': value.json  (int)\n",
      "├── 'address': value.dict  (dict)\n",
      "|    ├── 'street': value.json  (str)\n",
      "|    ├── 'zip': value.json  (None)\n",
      "|    \n",
      "├── 'siblings': value.list  (list)\n",
      "|    ├── 0.json  (str)\n",
      "|    ├── 1.json  (str)\n",
      "|    \n",
      "├── 'data': value.list  (list)\n",
      "|    ├── 0.json  (int)\n",
      "|    ├── 1.json  (int)\n",
      "|    ├── 2.json  (int)\n",
      "|    \n",
      "├── '(1, 2, 3)': value.json  (str)\n",
      "\n",
      "\n",
      "Directory structure\n",
      "Viewing tree structure of richfile at path: /home/rich/Desktop/test4/data.richfile (dict)\n",
      "├── name.dict_item (dict_item)\n",
      "|   ├── key.json (str)\n",
      "|   ├── value.json (str)\n",
      "|   \n",
      "├── age.dict_item (dict_item)\n",
      "|   ├── key.json (str)\n",
      "|   ├── value.json (int)\n",
      "|   \n",
      "├── address.dict_item (dict_item)\n",
      "|   ├── key.json (str)\n",
      "|   ├── value.dict (dict)\n",
      "|   |   ├── street.dict_item (dict_item)\n",
      "|   |   |   ├── key.json (str)\n",
      "|   |   |   ├── value.json (str)\n",
      "|   |   |   \n",
      "|   |   ├── zip.dict_item (dict_item)\n",
      "|   |   |   ├── key.json (str)\n",
      "|   |   |   ├── value.json (None)\n",
      "|   |   |   \n",
      "|   |   \n",
      "|   \n",
      "├── siblings.dict_item (dict_item)\n",
      "|   ├── key.json (str)\n",
      "|   ├── value.list (list)\n",
      "|   |   ├── 0.json (str)\n",
      "|   |   ├── 1.json (str)\n",
      "|   |   \n",
      "|   \n",
      "├── data.dict_item (dict_item)\n",
      "|   ├── key.json (str)\n",
      "|   ├── value.list (list)\n",
      "|   |   ├── 0.json (int)\n",
      "|   |   ├── 1.json (int)\n",
      "|   |   ├── 2.json (int)\n",
      "|   |   \n",
      "|   \n",
      "├── 5.dict_item (dict_item)\n",
      "|   ├── key.tuple (tuple)\n",
      "|   |   ├── 0.json (int)\n",
      "|   |   ├── 1.json (int)\n",
      "|   |   ├── 2.json (int)\n",
      "|   |   \n",
      "|   ├── value.json (str)\n",
      "|   \n",
      "\n"
     ]
    }
   ],
   "source": [
    "### Prepare the richfile object\n",
    "r = rf.RichFile(path=path)\n",
    "\n",
    "print(\"Object tree in `richfile` directory\")\n",
    "r.view_tree(show_filenames=True)\n",
    "\n",
    "print(\"\")\n",
    "print(\"Directory structure\")\n",
    "r.view_directory_tree()"
   ]
  },
  {
   "cell_type": "markdown",
   "metadata": {},
   "source": [
    "### 3. Load the saved data\n",
    "The directory structure of the `some_dict.richfile` directory can be loaded back into a python object."
   ]
  },
  {
   "cell_type": "code",
   "execution_count": 5,
   "metadata": {},
   "outputs": [
    {
     "name": "stdout",
     "output_type": "stream",
     "text": [
      "Data is the same: True\n"
     ]
    }
   ],
   "source": [
    "### Prepare the richfile object\n",
    "data_2 = rf.RichFile(path=path).load()\n",
    "\n",
    "## Check if the data is the same\n",
    "def check_data(d1, d2):\n",
    "    if isinstance(d1, dict):\n",
    "        [check_data(d1[k], d2[k]) for k in d1]\n",
    "    elif isinstance(d1, list):\n",
    "        [check_data(d1[i], d2[i]) for i in range(len(d1))]\n",
    "    elif isinstance(d1, np.ndarray):\n",
    "        assert np.all(d1 == d2)\n",
    "    else:\n",
    "        assert d1 == d2\n",
    "    return True\n",
    "\n",
    "print(f\"Data is the same: {check_data(data, data_2)}\")"
   ]
  },
  {
   "cell_type": "markdown",
   "metadata": {},
   "source": [
    "### 4. Load specific elements from the saved data\n",
    "We can also load specific elements from the directory structure without loading the entire directory. You can index into `RichFile` objects directly like python dictionaries and lists. This will create a new `RichFile` object corresponding to the subdirectory you indexed into."
   ]
  },
  {
   "cell_type": "code",
   "execution_count": 6,
   "metadata": {},
   "outputs": [
    {
     "name": "stdout",
     "output_type": "stream",
     "text": [
      "Original richfile object:\n",
      "Path: /home/rich/Desktop/test4/data.richfile (dict)\n",
      "├── 'name':   (str)\n",
      "├── 'age':   (int)\n",
      "├── 'address':   (dict)\n",
      "|    ├── 'street':   (str)\n",
      "|    ├── 'zip':   (None)\n",
      "|    \n",
      "├── 'siblings':   (list)\n",
      "|    ├──   (str)\n",
      "|    ├──   (str)\n",
      "|    \n",
      "├── 'data':   (list)\n",
      "|    ├──   (int)\n",
      "|    ├──   (int)\n",
      "|    ├──   (int)\n",
      "|    \n",
      "├── '(1, 2, 3)':   (str)\n",
      "\n",
      "\n",
      "New richfile object for the 'siblings' dictionary item:\n",
      "Path: /home/rich/Desktop/test4/data.richfile/siblings.dict_item/value.list (list)\n",
      "├──   (str)\n",
      "├──   (str)\n",
      "\n",
      "\n",
      "First element of the 'siblings' list:\n",
      "Jim\n"
     ]
    }
   ],
   "source": [
    "### Prepare the richfile object\n",
    "r = rf.RichFile(path=path)\n",
    "\n",
    "### Lazily load a single element from deep in the dictionary by specifying the path\n",
    "print(f\"Original richfile object:\")\n",
    "r.view_tree()\n",
    "## Make a new richfile object that points to the 'siblings' list inside the data dictionary\n",
    "r2 = r['siblings'] \n",
    "\n",
    "print(f\"\\nNew richfile object for the 'siblings' dictionary item:\")\n",
    "r2.view_tree()\n",
    "## Lazily load the first element of the 'siblings' list\n",
    "data2 = r2[1].load()\n",
    "\n",
    "print(f\"\\nFirst element of the 'siblings' list:\")\n",
    "print(data2)"
   ]
  },
  {
   "cell_type": "markdown",
   "metadata": {},
   "source": [
    "## C. Advanced examples\n",
    "\n",
    "1. Custom saving and loading functions for any object type\n",
    "2. Calling loading and saving functions with custom arguments\n",
    "3. Saving and viewing `.typelookup.richfile` files\n"
   ]
  },
  {
   "cell_type": "markdown",
   "metadata": {},
   "source": [
    "### 1. Custom saving and loading functions for any object type\n",
    "\n",
    "You can register any new data type using one of a few options, depending on how permanently you want to add the new type. See below examples for each.\n",
    "##### **Option A** (recommended): Scope: Temporary, within a single `RichFile` object. Pass the new data type details into the `.register_type` method on a `RichFile` object instance. This is the most flexible option.\n",
    "##### **Option B** (recommended): Scope: Temporary, within the current python session. Pass the new data type details into the `richfile.functions.register_type` function. If your object is a container-type and you'd like it to save like a dictionary into a folder on disk, use the `richfile.functions.Type_container` class.\n",
    "##### **Option C**: Scope: Permanent, across python sessions. Add your own saving and loading functions in the `richfile.functions` module. Consider forking this repo and installing with `pip install -e .` to make your changes permanent. If you think what you wrote should be included in the main package, please submit a pull request and we will probably accept it."
   ]
  },
  {
   "cell_type": "markdown",
   "metadata": {},
   "source": [
    "---\n",
    "**Option A example:**\n",
    "\n",
    "Register a new data type with a `RichFile` object instance:  `RichFile.register_type`.\n",
    "\n",
    "This will add the new data type to the `RichFile` object instance only. It will not be available in other `RichFile` objects.\n",
    "\n",
    "For this example we will register the `sparse.COO` class from the `sparse` library. This is a simple array class like numpy arrays, but used for sparse arrays. Let's register it with the `RichFile` object we created earlier so that object instances from this class can be saved and loaded.\n",
    "\n",
    "You can install the `sparse` library with `pip install sparse`."
   ]
  },
  {
   "cell_type": "code",
   "execution_count": 7,
   "metadata": {},
   "outputs": [],
   "source": [
    "## Save a sparse.COO array to a richfile\n",
    "path_sparse = '/home/rich/Desktop/test4/data_sparse.richfile'\n",
    "\n",
    "\n",
    "## CODE FOR NEW TYPE: sparse.COO\n",
    "\n",
    "### Make an object with a new object class: sparse.COO\n",
    "import sparse\n",
    "\n",
    "data_sparse = {\n",
    "    \"some_sparse_data\": sparse.COO(np.random.randint(0, 10, (100, 100))),\n",
    "}\n",
    "\n",
    "### Make save / load functions for objects of the type: sparse.COO\n",
    "def load_sparseCOO_array(path, **kwargs):\n",
    "    import sparse\n",
    "    return sparse.load_npz(path)\n",
    "def save_sparseCOO_array(obj, path, **kwargs):\n",
    "    import sparse\n",
    "    sparse.save_npz(path, obj)\n",
    "\n",
    "### Initialize a new RichFile object\n",
    "r = rf.RichFile(path=path_sparse)\n",
    "### Define the new type for the sparse.COO array\n",
    "### NOTE: all of these fields are required\n",
    "r.register_type(\n",
    "    type_name=\"sparseCOO_array\",         ## Name of the new type\n",
    "    function_load=load_sparseCOO_array,  ## Load function for all objects of this class\n",
    "    function_save=save_sparseCOO_array,  ## Save function for all objects of this class\n",
    "    object_class=sparse.COO,              ## Class type\n",
    "    suffix=\"npz\",                        ## File extension\n",
    "    library=\"sparse\",                    ## Library name\n",
    ")\n",
    "\n",
    "### Save the sparse.COO array to a richfile\n",
    "r.save(obj=data_sparse, overwrite=True)\n",
    "\n",
    "### Load the sparse.COO array from the richfile\n",
    "data_sparse2 = r.load()\n",
    "\n",
    "### Check for equality\n",
    "assert np.allclose(data_sparse['some_sparse_data'].todense(), data_sparse2['some_sparse_data'].todense())"
   ]
  },
  {
   "cell_type": "markdown",
   "metadata": {},
   "source": [
    "**Option B examples:**\n",
    "\n",
    "Example B1: first example for Option B is a simple one: Add the new **data** type using `richfile.functions.CustomObject`. In the next case, we will add a new **container** type.\n",
    "\n",
    "This will add the data type for the current python session only. The new type will be available to all `RichFile` objects subsequently created in this session."
   ]
  },
  {
   "cell_type": "code",
   "execution_count": 8,
   "metadata": {},
   "outputs": [
    {
     "name": "stdout",
     "output_type": "stream",
     "text": [
      "<class 'PIL.Image.Image'>\n"
     ]
    },
    {
     "data": {
      "image/jpeg": "[encoded data removed]",
      "image/png": "[encoded data removed]",
      "text/plain": [
       "<PIL.Image.Image image mode=RGB size=100x100>"
      ]
     },
     "execution_count": 8,
     "metadata": {},
     "output_type": "execute_result"
    }
   ],
   "source": [
    "## Make an object with a new object class: PIL.Image.Image\n",
    "import PIL.Image\n",
    "\n",
    "data_image = {\n",
    "    \"some_image_rgb\": PIL.Image.fromarray(np.random.randint(0, 255, (100, 100, 3)).astype(np.uint8)),\n",
    "    \"some_image_gray\": PIL.Image.fromarray(np.random.randint(0, 255, (100, 100)).astype(np.uint8)),\n",
    "}\n",
    "\n",
    "## Note the new type of the objects\n",
    "print(type(data_image['some_image_rgb']))\n",
    "\n",
    "## Look at an image:\n",
    "data_image['some_image_rgb']"
   ]
  },
  {
   "cell_type": "code",
   "execution_count": 9,
   "metadata": {},
   "outputs": [
    {
     "name": "stdout",
     "output_type": "stream",
     "text": [
      "type_name: 'PIL_image' in _TYPE_LOOKUP: False\n",
      "object_class: PIL.Image.Image in _TYPE_LOOKUP: False\n",
      "\n",
      "type_name: 'PIL_image' in _TYPE_LOOKUP: True\n",
      "object_class: PIL.Image.Image in _TYPE_LOOKUP: True\n"
     ]
    }
   ],
   "source": [
    "## Note that there is no type available with 'type_name'='PIL_image' or with 'object_class'=PIL.Image.Image\n",
    "print(f\"type_name: 'PIL_image' in _TYPE_LOOKUP: {any([t['type_name']=='PIL_image' for t in rf.functions._TYPE_LOOKUP])}\")\n",
    "print(f\"object_class: PIL.Image.Image in _TYPE_LOOKUP: {any([t['object_class']==PIL.Image.Image for t in rf.functions._TYPE_LOOKUP])}\")\n",
    "print('')\n",
    "\n",
    "## Make loading and saving functions for the PIL.Image.Image objects\n",
    "def load_PIL_imag_png(path, **kwargs):\n",
    "    import PIL.Image\n",
    "    return PIL.Image.open(path)\n",
    "def save_PIL_imag_png(obj, path, **kwargs):\n",
    "    with open(path, 'wb') as f:\n",
    "        obj.save(f, format='PNG')\n",
    "\n",
    "## Make a custom object class that we want to be able to save / load\n",
    "rf.functions.register_type(\n",
    "    type_name=\"PIL_image\",\n",
    "    function_load=load_PIL_imag_png,\n",
    "    function_save=save_PIL_imag_png,\n",
    "    object_class=PIL.Image.Image,\n",
    "    suffix=\"png\",\n",
    "    library=\"PIL\",\n",
    "    versions_supported=[\">6\", \"<12\"],\n",
    ")\n",
    "\n",
    "## Now see that the new type is available\n",
    "print(f\"type_name: 'PIL_image' in _TYPE_LOOKUP: {any([t['type_name']=='PIL_image' for t in rf.functions._TYPE_LOOKUP])}\")\n",
    "print(f\"object_class: PIL.Image.Image in _TYPE_LOOKUP: {any([t['object_class']==PIL.Image.Image for t in rf.functions._TYPE_LOOKUP])}\")"
   ]
  },
  {
   "cell_type": "code",
   "execution_count": 10,
   "metadata": {},
   "outputs": [
    {
     "data": {
      "image/jpeg": "[encoded data removed]",
      "image/png": "[encoded data removed]",
      "text/plain": [
       "<PIL.PngImagePlugin.PngImageFile image mode=RGB size=100x100>"
      ]
     },
     "execution_count": 10,
     "metadata": {},
     "output_type": "execute_result"
    }
   ],
   "source": [
    "## Now save the image to a richfile\n",
    "path_image = '/home/rich/Desktop/test4/data_image.richfile'\n",
    "\n",
    "## Initialize a new RichFile object and save the image\n",
    "r = rf.RichFile(path=path_image).save(obj=data_image, overwrite=True)\n",
    "\n",
    "## Load the image from the richfile\n",
    "data_image2 = rf.RichFile(path=path_image).load()\n",
    "\n",
    "## Check for equality\n",
    "assert np.allclose(np.array(data_image['some_image_rgb']), np.array(data_image2['some_image_rgb']))\n",
    "\n",
    "## Look at the image\n",
    "data_image2['some_image_rgb']"
   ]
  },
  {
   "cell_type": "markdown",
   "metadata": {},
   "source": [
    "Example B2: Custom container type classes. You can use the `richfile.functions.Type_container` class to register a new container type. This will save the object as a directory on disk, with each item in the container saved as a separate file / folder.\n",
    "\n",
    "For this example, we will make a custom class that holders some data."
   ]
  },
  {
   "cell_type": "code",
   "execution_count": 11,
   "metadata": {},
   "outputs": [],
   "source": [
    "path_new_class = '/home/rich/Desktop/test4/data_new_class.richfile'\n",
    "\n",
    "## Prepare a new richfile object\n",
    "r = rf.RichFile(path=path_new_class)\n",
    "\n",
    "class NewClass:\n",
    "    def __init__(self, data, more_data, even_more_data):\n",
    "        self.data = data\n",
    "        self.more_data = more_data\n",
    "        self.even_more_data = even_more_data\n",
    "    def show_data(self):\n",
    "        print(self.data)\n",
    "\n",
    "## Make an object with a new object class: DataClass\n",
    "d = NewClass(data=5, more_data='hello', even_more_data={'a': 1, 'b': 2})\n",
    "\n",
    "## Make and register the new type for the DataClass objects\n",
    "data_type = rf.functions.Type_container(\n",
    "    type_name=\"new_class\",\n",
    "    object_class=NewClass,\n",
    "    suffix=\"new_class\",\n",
    "    library=\"python\",\n",
    "    versions_supported=[],\n",
    ")\n",
    "\n",
    "## Register the new type just for this richfile object\n",
    "r.register_type_from_dict(data_type.get_property_dict())\n",
    "## or globally\n",
    "# data_type.register_type()\n",
    "\n",
    "\n",
    "## Save the new_class object to a richfile\n",
    "r.save(obj=d, overwrite=True)\n",
    "\n",
    "## Load the new_class object from the richfile\n",
    "r2 = rf.RichFile(path=path_new_class)\n",
    "### You MUST register the new type before loading the object if you did not register it globally\n",
    "r2.register_type_from_dict(data_type.get_property_dict())\n",
    "d2 = r2.load()\n",
    "\n",
    "## Check for equality\n",
    "assert d.data == d2.data\n",
    "assert d.more_data == d2.more_data\n",
    "assert d.even_more_data == d2.even_more_data"
   ]
  },
  {
   "cell_type": "code",
   "execution_count": 12,
   "metadata": {},
   "outputs": [
    {
     "name": "stdout",
     "output_type": "stream",
     "text": [
      "type_name: 'new_class' in _TYPE_LOOKUP: False\n",
      "type_name: 'new_class' in _TYPE_LOOKUP: True\n"
     ]
    }
   ],
   "source": [
    "## We could also register the new type globally\n",
    "### Check if it is there already\n",
    "print(f\"type_name: 'new_class' in _TYPE_LOOKUP: {any([t['type_name']=='new_class' for t in rf.functions._TYPE_LOOKUP])}\")\n",
    "data_type.register_type()\n",
    "### Check if it is there now\n",
    "print(f\"type_name: 'new_class' in _TYPE_LOOKUP: {any([t['type_name']=='new_class' for t in rf.functions._TYPE_LOOKUP])}\")\n",
    "\n",
    "## We can now save and load the object without registering the type first\n",
    "path_new_class2 = '/home/rich/Desktop/test4/data_new_class2.richfile'\n",
    "rf.RichFile(path=path_new_class2).save(obj=d, overwrite=True)\n",
    "d3 = rf.RichFile(path=path_new_class2).load()\n",
    "\n",
    "## Check for equality\n",
    "assert d.data == d3.data\n",
    "assert d.more_data == d3.more_data\n",
    "assert d.even_more_data == d3.even_more_data"
   ]
  },
  {
   "cell_type": "markdown",
   "metadata": {},
   "source": [
    "##### **Option C:**\n",
    "\n",
    "See the the functions at the bottom of `richfile.functions.py` for examples of how to add new data types to the `richfile` package permanently."
   ]
  },
  {
   "cell_type": "markdown",
   "metadata": {},
   "source": [
    "### 2. Calling loading and saving functions with custom arguments\n",
    "\n",
    "**Loading**: Let's load a numpy array using memory mapping. This requires passing the `mmap_mode` argument to the inner loading function for `np.ndarray` objects: `np.save`. This is accomplished by calling the `.set_load_kwargs` method on the `RichFile` object before calling the loading function."
   ]
  },
  {
   "cell_type": "code",
   "execution_count": 14,
   "metadata": {},
   "outputs": [
    {
     "name": "stdout",
     "output_type": "stream",
     "text": [
      "Type of the loaded numpy array: <class 'numpy.memmap'>\n"
     ]
    }
   ],
   "source": [
    "### Prepare path\n",
    "path_np = '/home/rich/Desktop/test4/data_np.richfile'\n",
    "\n",
    "### Make object with numpy arrays\n",
    "data_np = {\n",
    "    'data': np.random.rand(100, 1000),\n",
    "}\n",
    "\n",
    "### Make a dictionary with the properties of the new type\n",
    "type_dict = {\n",
    "    'type_name': 'numpy_array',\n",
    "    'function_load': lambda path, **kwargs: np.load(path, **kwargs),  ## function_load must have the signature: `function(path, **kwargs)`\n",
    "    'function_save': lambda path, obj, **kwargs: np.save(path, obj, **kwargs),  ## function_save must have the signature: `function(path, obj, **kwargs)`\n",
    "    'object_class': np.ndarray,\n",
    "    'suffix': 'npy',\n",
    "    'library': 'numpy',\n",
    "}\n",
    "\n",
    "### Prepare new richfile object\n",
    "r = rf.RichFile(path=path_np)\n",
    "\n",
    "### Register a custom loader for the `np.ndarray` type to the richfile object\n",
    "r.register_type_from_dict(type_dict)\n",
    "\n",
    "### Save the numpy array to a richfile\n",
    "r.save(obj=data_np, overwrite=True)\n",
    "\n",
    "\n",
    "### Set the `mmap_mode='r'` for loading objects of the `'numpy_array'` or np.ndarray type\n",
    "r.set_load_kwargs(type_=np.ndarray, mmap_mode='r')\n",
    "\n",
    "### Load the numpy array as a memory-mapped array\n",
    "data = r['data'].load()\n",
    "\n",
    "print(f\"Type of the loaded numpy array: {type(data)}\")"
   ]
  },
  {
   "cell_type": "markdown",
   "metadata": {},
   "source": [
    "**Saving**: You can do the same thing with saving using the `.set_save_kwargs` method. Remember that all atomic objects should be able to be saved and loaded and saved and loaded again without any loss of information or change in the object."
   ]
  },
  {
   "cell_type": "markdown",
   "metadata": {},
   "source": [
    "### 3. Saving and viewing `.typelookup.richfile` files\n",
    "\n",
    "The `.typelookup.richfile` file is a file that contains information about the data types that are registered with the `richfile` package. This file is saved in the root directory of the `richfile` folder saved (if the object is container-like). It is currently not used or required; it is just useful metadata for the user."
   ]
  },
  {
   "cell_type": "code",
   "execution_count": 26,
   "metadata": {},
   "outputs": [
    {
     "name": "stdout",
     "output_type": "stream",
     "text": [
      "type_name: PIL_image\n",
      "function_load: def load_PIL_imag_png(path, **kwargs):\n",
      "    import PIL.Image\n",
      "    return PIL.Image.open(path)\n",
      "\n",
      "function_save: def save_PIL_imag_png(obj, path, **kwargs):\n",
      "    with open(path, 'wb') as f:\n",
      "        obj.save(f, format='PNG')\n",
      "\n",
      "object_class: <class 'PIL.Image.Image'>\n",
      "suffix: png\n",
      "library: PIL\n",
      "versions_supported: ['>6', '<12']\n",
      "\n",
      "\n",
      "\n",
      "\n",
      "\n",
      "type_name: new_class\n",
      "function_load:     def function_load(\n",
      "        self,\n",
      "        path: Union[str, Path],\n",
      "        type_lookup: Dict,\n",
      "        check: bool = True,\n",
      "        **kwargs,\n",
      "    ) -> Any:\n",
      "        \"\"\"\n",
      "        Loads an object from the given path.\n",
      "        \"\"\"\n",
      "        out = self.object_class.__new__(self.object_class)\n",
      "        out.__dict__ = util.load_folder(\n",
      "            path=path,\n",
      "            type_lookup=type_lookup,\n",
      "            check=check,\n",
      "            **kwargs,\n",
      "        )\n",
      "        return out\n",
      "\n",
      "function_save:     def function_save(\n",
      "        self,\n",
      "        obj: Any,\n",
      "        path: Union[str, Path],\n",
      "        type_lookup: Dict,\n",
      "        check: bool = True,\n",
      "        overwrite: bool = False,\n",
      "        name_dict_items: bool = True,\n",
      "        **kwargs,\n",
      "    ) -> None:\n",
      "        \"\"\"\n",
      "        Saves an object to the given path as a container.\n",
      "        \"\"\"\n",
      "        if not isinstance(obj, self.object_class):\n",
      "            raise TypeError(f\"Object must be of type {self.object_class}.\")\n",
      "        \n",
      "        util.save_container(\n",
      "            obj=obj.__dict__,\n",
      "            path=path,\n",
      "            type_name=self.type_name,\n",
      "            type_lookup=type_lookup,\n",
      "            check=check,\n",
      "            overwrite=overwrite,\n",
      "            name_dict_items=name_dict_items,\n",
      "        )\n",
      "\n",
      "object_class: <class '__main__.NewClass'>\n",
      "suffix: new_class\n",
      "library: python\n",
      "versions_supported: []\n",
      "\n",
      "\n",
      "\n",
      "\n",
      "\n",
      "type_name: numpy_array\n",
      "function_load:     'function_load': lambda path, **kwargs: np.load(path, **kwargs),  ## function_load must have the signature: `function(path, **kwargs)`\n",
      "\n",
      "function_save:     'function_save': lambda path, obj, **kwargs: np.save(path, obj, **kwargs),  ## function_save must have the signature: `function(path, obj, **kwargs)`\n",
      "\n",
      "object_class: <class 'numpy.ndarray'>\n",
      "suffix: npy\n",
      "library: numpy\n",
      "versions_supported: []\n",
      "\n",
      "\n",
      "\n",
      "\n",
      "\n"
     ]
    }
   ],
   "source": [
    "## Load the .typelookup.richfile file from the numpy richfile\n",
    "from pathlib import Path\n",
    "type_lookup_metadata = rf.util.load_json(str(Path(path_np) / '.typelookup.richfile'))\n",
    "\n",
    "## Print the metadata for a few of the types\n",
    "for t in type_lookup_metadata[-3:]:\n",
    "    [print(f\"{k}: {v}\") for k, v in t.items()]\n",
    "    print('\\n\\n\\n\\n')"
   ]
  },
  {
   "cell_type": "markdown",
   "metadata": {},
   "source": [
    "## D: Details\n",
    "DETAILED PYTHON CONVENTIONS FOR NERDS:\n",
    "\n",
    "The system is based on the following principles: \n",
    "- Each leaf object is saved as a separate file \n",
    "- The folder structure mirrors the nested object structure:\n",
    "    - Lists, tuples, and sets are saved as folders with elements saved as files\n",
    "      or folders with integer names\n",
    "    - Dicts are saved as folders with items saved as folders with integer names.\n",
    "      Dict items are saved as folders containing 2 elements.\n",
    "- There is a single metadata file for each folder describing the properties of\n",
    "  each element in the folder\n",
    "    - The metadata file is a JSON file named \"metadata.richfile\" and contains\n",
    "      the following items:\n",
    "        - \"elements\": a dictionary with keys that are the names of the files /\n",
    "          folders in the directory and values that are dictionaries with the\n",
    "          following items:\n",
    "            - \"type\": A string describing type of the element. The string used\n",
    "              should be a valid richfile type, as it is determines how the\n",
    "              element is loaded. Examples: \"npy_array\", \"scipy_sparse_array\",\n",
    "              \"list\", \"object\", \"float\", etc.\n",
    "            - \"library\": A string describing the library used to save the\n",
    "              element. Examples: \"numpy\", \"scipy\", \"python\", \"json\" (for native\n",
    "              python types), etc.\n",
    "           - \"version\": A string describing the version of the library used to\n",
    "              save the element. This is used to determine how the element is\n",
    "              loaded. Examples: \"1.0.0\", \"0.1.0\", etc.\n",
    "            - \"index\": An integer that is used to determine the order of the\n",
    "              elements when loading them. Example: 0, 1, 2, etc.\n",
    "        - \"type\": A string describing the type of the folder. The string used\n",
    "          should be a valid richfile type, as it determines how the folder is\n",
    "          loaded. Examples: \"list\", \"dict\", \"tuple\", etc. (Only container-like\n",
    "          types)\n",
    "        - \"library\": A string describing the library used to save the folder.\n",
    "          Examples: \"python\"\n",
    "        - \"version\": A string describing the version of the library used to for\n",
    "          the container. This is used to determine how the folder is loaded.\n",
    "          Examples: \"3.12\", \"3.13\", etc.\n",
    "        - \"version_richfile\": A string describing the version of the richfile\n",
    "          format used to save the metadata file. Examples: \"1.0.0\", \"0.1.0\",\n",
    "          etc.\n",
    "- Loading proceeds as follows:\n",
    "    - enter outer folder\n",
    "    - load metadata file\n",
    "    - check that files / folders in the directory match the metadata\n",
    "    - if folder represents a list, tuple, or set:\n",
    "        - elements are expected to be named as integers with an appropriate\n",
    "          suffix: 0.list, 1.npy, 2.dict, 3.npz, 4.json, etc.\n",
    "        - load each element in the order specified by the metadata index\n",
    "        - if an element is container-like, enter its folder, load, and package\n",
    "          it.\n",
    "    - if folder represents a dict:\n",
    "        - each item will be saved as a folder containing a single dict item\n",
    "        - each dict item folder will contain 2 elements: key (0) and value (1)\n",
    "    - load elements:\n",
    "        - richfile types (eg. \"array\", \"sparse_array\", etc.) are saved and\n",
    "          loaded using numpy, scipy, etc. as appropriate.\n",
    "        - an appropriate suffix will be added to the file or folder name.\n",
    "        - native python types (eg. \"float\", \"int\", \"str\", etc.) are saved as\n",
    "          JSON files and loaded using the json library."
   ]
  },
  {
   "cell_type": "markdown",
   "metadata": {},
   "source": []
  }
 ],
 "metadata": {
  "kernelspec": {
   "display_name": "Python 3",
   "language": "python",
   "name": "python3"
  },
  "language_info": {
   "codemirror_mode": {
    "name": "ipython",
    "version": 3
   },
   "file_extension": ".py",
   "mimetype": "text/x-python",
   "name": "python",
   "nbconvert_exporter": "python",
   "pygments_lexer": "ipython3",
   "version": "3.11.9"
  }
 },
 "nbformat": 4,
 "nbformat_minor": 2
}

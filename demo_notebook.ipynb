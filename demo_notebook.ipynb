{
 "cells": [
  {
   "cell_type": "markdown",
   "metadata": {},
   "source": [
    "# Demo notebook for `richfile`\n",
    "\n",
    "Welcome to the demo notebook for the `richfile` python package.\\\n",
    "Below you'll find the following chapters:\n",
    "#### A. Basics of conventions\n",
    "#### B. Basic examples in python\n",
    "#### C. Advanced examples in python\n",
    "#### D. Details\n",
    "\n",
    "\n",
    "What is `richfile`?\n",
    "\n",
    "- Primarily, it set of **conventions** for saving and loading nested data structures in a human-readable format.\n",
    "- In practice, it is also a software library / API that implements these conventions.\n",
    "- The goals of the `richfile` conventions:\n",
    "    - **Human-readable**: The data saved on disk should be human-readable in a file explorer.\n",
    "    - **Directory structure**: Hierarchically organized data should be stored in a directory structure.\n",
    "    - **Versioning**: The data should be insensitive to software version changes. No loss of old data.\n",
    "    - **Customizable**: The data should be highly customizable."
   ]
  },
  {
   "cell_type": "markdown",
   "metadata": {},
   "source": [
    "## A. Basics of `richfile` python conventions\n",
    "1. richfiles are hierarchically organized directory structures that represent hierarchically organized data structures. (Similar to JSON, HDF5, etc.)\n",
    "2. Container objects like `list`, `dict`, `set`, `tuple` are represented as directories.\n",
    "3. Atomic objects like `int`, `float`, arrays, etc. are represented as files.\n",
    "4. Each directory has a `metadata.richfile` file that contains metadata about the container and its contents. This is a protected filename.\n",
    "5. Atomic objects are saved and loaded using functions that are specific to that object type. Ideally, these are libraries native to the data type (e.g. `numpy` for arrays). Native python atomic objects like `int`, `str`, etc. are saved as `.json` files."
   ]
  },
  {
   "cell_type": "markdown",
   "metadata": {
    "vscode": {
     "languageId": "plaintext"
    }
   },
   "source": [
    "#### What does a richfile look like?\n",
    "Here is an example python object:\n",
    "```python\n",
    "some_dict = {\n",
    "    \"some_list_of_int\": [1, 2, 3],\n",
    "    \"a_nested_dict\": {\n",
    "        \"some_float\": 4.5,\n",
    "        \"some_str\": \"hello\"\n",
    "        \"another_dict\": {\n",
    "            \"f\": None,\n",
    "            \"some_tuple_of_numpy_arrays\": (np.array(...), np.array(...)),\n",
    "            \"some_set_of_dicts\": {{\"a\": 1}, {\"b\": 2}},\n",
    "        }\n",
    "    }\n",
    "}\n",
    "```\n",
    "\n",
    "And the corresponding `richfile` folder structure:\n",
    "```\n",
    "some_dict.richfile (a folder containing the following folder structure)\n",
    "├── metadata.richfile\n",
    "├── some_list_of_int.list\n",
    "|   ├── metadata.richfile\n",
    "|   ├── 0.int\n",
    "|   ├── 1.int\n",
    "|   ├── 2.int\n",
    "|\n",
    "├── a_nested_dict.dict\n",
    "|   ├── metadata.richfile\n",
    "|   ├── some_float.dict_item\n",
    "|   |   ├── metadata.richfile\n",
    "|   |   ├── key.str\n",
    "|   |   ├── value.float\n",
    "|   |\n",
    "|   ├── some_str.dict_item\n",
    "|   |   ├── metadata.richfile\n",
    "|   |   ├── key.str\n",
    "|   |   ├── value.str\n",
    "|   |\n",
    "|   ├── another_dict.dict_item\n",
    "|   |   ├── metadata.richfile\n",
    "|   |   ├── key.str\n",
    "|   |   ├── value.dict\n",
    "|   |   |   ├── metadata.richfile\n",
    "|   |   |   ├── f.none\n",
    "|   |   |   ├── some_tuple_of_numpy_arrays.tuple\n",
    "|   |   |   |   ├── metadata.richfile\n",
    "|   |   |   |   ├── 0.npy\n",
    "|   |   |   |   ├── 1.npy\n",
    "|   |   |   |\n",
    "|   |   |   ├── some_set_of_dicts.set\n",
    "|   |   |   |   ├── metadata.richfile\n",
    "|   |   |   |   ├── 0.dict\n",
    "|   |   |   |   |   ├── metadata.richfile\n",
    "|   |   |   |   |   ├── a.dict_item\n",
    "|   |   |   |   |   |   ├── metadata.richfile\n",
    "|   |   |   |   |   |   ├── key.str\n",
    "|   |   |   |   |   |   ├── value.int\n",
    "|   |   |   |   |   |\n",
    "|   |   |   |   |\n",
    "|   |   |   |   ├── 1.dict\n",
    "|   |   |   |   |   ├── metadata.richfile\n",
    "|   |   |   |   |   ├── b.dict_item\n",
    "|   |   |   |   |   |   ├── metadata.richfile\n",
    "|   |   |   |   |   |   ├── key.str\n",
    "|   |   |   |   |   |   ├── value.int\n",
    "|   |   |   |   |   |\n",
    "|   |   |   |   |\n",
    "|   |   |   |\n",
    "|   |   |\n",
    "|   |\n",
    "|\n",
    "```"
   ]
  },
  {
   "cell_type": "markdown",
   "metadata": {},
   "source": [
    "## B. Basic examples in python\n",
    "\n",
    "1. Saving data objects\n",
    "2. Exploring the saved data\n",
    "3. Loading the saved data\n",
    "4. Loading specific elements from the saved data"
   ]
  },
  {
   "cell_type": "code",
   "execution_count": 1,
   "metadata": {},
   "outputs": [],
   "source": [
    "%load_ext autoreload\n",
    "%autoreload 2\n",
    "import richfile as rf\n",
    "\n",
    "## Set path to save / load a richfile\n",
    "path = '/home/rich/Desktop/test4/data.richfile'"
   ]
  },
  {
   "cell_type": "markdown",
   "metadata": {},
   "source": [
    "#### Make a data object\n",
    "We will make a nested dictionary object and save it as a `richfile` folder."
   ]
  },
  {
   "cell_type": "code",
   "execution_count": 2,
   "metadata": {},
   "outputs": [],
   "source": [
    "import numpy as np\n",
    "\n",
    "## Save a dictionary to a richfile\n",
    "data = {\n",
    "    \"name\": \"John Doe\",\n",
    "    \"age\": 25,\n",
    "    \"address\": {\n",
    "        \"street\": \"1234 Elm St\",\n",
    "        \"zip\": None\n",
    "    },\n",
    "    \"siblings\": [\n",
    "        \"Jane\",\n",
    "        \"Jim\"\n",
    "    ],\n",
    "    \"data\": np.array([1,2,3]),\n",
    "    (1,2,3): \"complex key\",\n",
    "}"
   ]
  },
  {
   "cell_type": "markdown",
   "metadata": {},
   "source": [
    "#### 1. Save the data object"
   ]
  },
  {
   "cell_type": "code",
   "execution_count": 3,
   "metadata": {},
   "outputs": [],
   "source": [
    "## Save the dictionary to a file\n",
    "r = rf.RichFile(path=path).save(obj=data)"
   ]
  },
  {
   "cell_type": "markdown",
   "metadata": {},
   "source": [
    "#### 2. Explore the saved data\n",
    "The folder was saved as `some_dict.richfile` on disk. We will print out the directory structure below. \n",
    "\n",
    "You can also explore the folder in your file explorer BUT DO NOT MODIFY THE FOLDER CONTENTS. You can copy data out of it, but if you modify the names or contents of the files without also updating the metadata, the data will be corrupted."
   ]
  },
  {
   "cell_type": "code",
   "execution_count": 4,
   "metadata": {},
   "outputs": [
    {
     "name": "stdout",
     "output_type": "stream",
     "text": [
      "Object tree in `richfile` directory\n",
      "Path: /home/rich/Desktop/test4/data.richfile (dict)\n",
      "├── 'name': value.json  (str)\n",
      "├── 'age': value.json  (int)\n",
      "├── 'address': value.dict  (dict)\n",
      "|    ├── 'street': value.json  (str)\n",
      "|    ├── 'zip': value.json  (None)\n",
      "|    \n",
      "├── 'siblings': value.list  (list)\n",
      "|    ├── 0.json  (str)\n",
      "|    ├── 1.json  (str)\n",
      "|    \n",
      "├── 'data': value.npy  (numpy_array)\n",
      "├── '(1, 2, 3)': value.json  (str)\n",
      "\n",
      "\n",
      "Directory structure\n",
      "Viewing tree structure of richfile at path: /home/rich/Desktop/test4/data.richfile (dict)\n",
      "├── name.dict_item (dict_item)\n",
      "|   ├── key.json (str)\n",
      "|   ├── value.json (str)\n",
      "|   \n",
      "├── age.dict_item (dict_item)\n",
      "|   ├── key.json (str)\n",
      "|   ├── value.json (int)\n",
      "|   \n",
      "├── address.dict_item (dict_item)\n",
      "|   ├── key.json (str)\n",
      "|   ├── value.dict (dict)\n",
      "|   |   ├── street.dict_item (dict_item)\n",
      "|   |   |   ├── key.json (str)\n",
      "|   |   |   ├── value.json (str)\n",
      "|   |   |   \n",
      "|   |   ├── zip.dict_item (dict_item)\n",
      "|   |   |   ├── key.json (str)\n",
      "|   |   |   ├── value.json (None)\n",
      "|   |   |   \n",
      "|   |   \n",
      "|   \n",
      "├── siblings.dict_item (dict_item)\n",
      "|   ├── key.json (str)\n",
      "|   ├── value.list (list)\n",
      "|   |   ├── 0.json (str)\n",
      "|   |   ├── 1.json (str)\n",
      "|   |   \n",
      "|   \n",
      "├── data.dict_item (dict_item)\n",
      "|   ├── key.json (str)\n",
      "|   ├── value.npy (numpy_array)\n",
      "|   \n",
      "├── 5.dict_item (dict_item)\n",
      "|   ├── key.tuple (tuple)\n",
      "|   |   ├── 0.json (int)\n",
      "|   |   ├── 1.json (int)\n",
      "|   |   ├── 2.json (int)\n",
      "|   |   \n",
      "|   ├── value.json (str)\n",
      "|   \n",
      "\n"
     ]
    }
   ],
   "source": [
    "### Prepare the richfile object\n",
    "r = rf.RichFile(path=path)\n",
    "\n",
    "print(\"Object tree in `richfile` directory\")\n",
    "r.view_tree(show_filenames=True)\n",
    "\n",
    "print(\"\")\n",
    "print(\"Directory structure\")\n",
    "r.view_directory_tree()"
   ]
  },
  {
   "cell_type": "markdown",
   "metadata": {},
   "source": [
    "#### 3. Load the saved data\n",
    "The directory structure of the `some_dict.richfile` directory can be loaded back into a python object."
   ]
  },
  {
   "cell_type": "code",
   "execution_count": 5,
   "metadata": {},
   "outputs": [
    {
     "name": "stdout",
     "output_type": "stream",
     "text": [
      "Data is the same: True\n"
     ]
    }
   ],
   "source": [
    "### Prepare the richfile object\n",
    "data_2 = rf.RichFile(path=path).load()\n",
    "\n",
    "## Check if the data is the same\n",
    "def check_data(d1, d2):\n",
    "    if isinstance(d1, dict):\n",
    "        [check_data(d1[k], d2[k]) for k in d1]\n",
    "    elif isinstance(d1, list):\n",
    "        [check_data(d1[i], d2[i]) for i in range(len(d1))]\n",
    "    elif isinstance(d1, np.ndarray):\n",
    "        assert np.all(d1 == d2)\n",
    "    else:\n",
    "        assert d1 == d2\n",
    "    return True\n",
    "\n",
    "print(f\"Data is the same: {check_data(data, data_2)}\")"
   ]
  },
  {
   "cell_type": "markdown",
   "metadata": {},
   "source": [
    "#### 4. Load specific elements from the saved data\n",
    "We can also load specific elements from the directory structure without loading the entire directory. You can index into `RichFile` objects directly like python dictionaries and lists. This will create a new `RichFile` object corresponding to the subdirectory you indexed into."
   ]
  },
  {
   "cell_type": "code",
   "execution_count": 6,
   "metadata": {},
   "outputs": [
    {
     "name": "stdout",
     "output_type": "stream",
     "text": [
      "Original richfile object:\n",
      "Path: /home/rich/Desktop/test4/data.richfile (dict)\n",
      "├── 'name':   (str)\n",
      "├── 'age':   (int)\n",
      "├── 'address':   (dict)\n",
      "|    ├── 'street':   (str)\n",
      "|    ├── 'zip':   (None)\n",
      "|    \n",
      "├── 'siblings':   (list)\n",
      "|    ├──   (str)\n",
      "|    ├──   (str)\n",
      "|    \n",
      "├── 'data':   (numpy_array)\n",
      "├── '(1, 2, 3)':   (str)\n",
      "\n",
      "\n",
      "New richfile object for the 'siblings' dictionary item:\n",
      "Path: /home/rich/Desktop/test4/data.richfile/siblings.dict_item/value.list (list)\n",
      "├──   (str)\n",
      "├──   (str)\n",
      "\n",
      "\n",
      "First element of the 'siblings' list:\n",
      "Jim\n"
     ]
    }
   ],
   "source": [
    "### Prepare the richfile object\n",
    "r = rf.RichFile(path=path)\n",
    "\n",
    "### Lazily load a single element from deep in the dictionary by specifying the path\n",
    "print(f\"Original richfile object:\")\n",
    "r.view_tree()\n",
    "## Make a new richfile object that points to the 'siblings' list inside the data dictionary\n",
    "r2 = r['siblings'] \n",
    "\n",
    "print(f\"\\nNew richfile object for the 'siblings' dictionary item:\")\n",
    "r2.view_tree()\n",
    "## Lazily load the first element of the 'siblings' list\n",
    "data2 = r2[1].load()\n",
    "\n",
    "print(f\"\\nFirst element of the 'siblings' list:\")\n",
    "print(data2)"
   ]
  },
  {
   "cell_type": "markdown",
   "metadata": {},
   "source": [
    "## C. Advanced examples in python\n",
    "\n",
    "1. Calling loading and saving functions with custom arguments\n",
    "2. Custom saving and loading functions for any object type"
   ]
  },
  {
   "cell_type": "markdown",
   "metadata": {},
   "source": [
    "#### 1. Calling loading and saving functions with custom arguments\n",
    "\n",
    "**Loading**: Let's load a numpy array using memory mapping. This requires passing the `mmap_mode` argument to the loading function. This is accomplished by calling the `.set_load_kwargs` method on the `RichFile` object before calling the loading function."
   ]
  },
  {
   "cell_type": "code",
   "execution_count": 7,
   "metadata": {},
   "outputs": [
    {
     "name": "stdout",
     "output_type": "stream",
     "text": [
      "Type of the loaded numpy array: <class 'numpy.memmap'>\n"
     ]
    }
   ],
   "source": [
    "### Prepare the richfile object\n",
    "r = rf.RichFile(path=path)\n",
    "\n",
    "### Set the `mmap_mode='r'` for loading objects of the `'numpy_array'` or np.ndarray type\n",
    "r.set_load_kwargs(type_=np.ndarray, mmap_mode='r')\n",
    "\n",
    "### Load the numpy array as a memory-mapped array\n",
    "data = r['data'].load()\n",
    "\n",
    "print(f\"Type of the loaded numpy array: {type(data)}\")"
   ]
  },
  {
   "cell_type": "markdown",
   "metadata": {},
   "source": [
    "**Saving**: You can do the same thing with saving using the `.set_save_kwargs` method. Though, there are fewer use cases for this. Remember that all atomic objects should be able to be saved and loaded and saved and loaded again without any loss of information or change in the object."
   ]
  },
  {
   "cell_type": "markdown",
   "metadata": {},
   "source": [
    "#### 2. Custom saving and loading functions for any object type\n",
    "\n",
    "You can register a new type to be used with a `RichFile` object. This is done by calling the `.register_type` function. This is useful for saving and loading custom objects that are not natively supported by `richfile`.\n",
    "\n",
    "For this example we will register a the `sparse.COO` object from the `sparse` library, which is great for saving high-dimensional sparse arrays."
   ]
  },
  {
   "cell_type": "code",
   "execution_count": 10,
   "metadata": {},
   "outputs": [
    {
     "name": "stdout",
     "output_type": "stream",
     "text": [
      "Path: /home/rich/Desktop/test4/data_sparse.richfile (dict)\n",
      "├── 'some_sparse_data':   (sparseCOO_array)\n",
      "\n"
     ]
    },
    {
     "data": {
      "text/plain": [
       "RichFileHandler(path=/home/rich/Desktop/test4/data_sparse.richfile, check=True), params_load={}), params_save={})"
      ]
     },
     "execution_count": 10,
     "metadata": {},
     "output_type": "execute_result"
    }
   ],
   "source": [
    "## Make save / load functions for the sparse.COO type\n",
    "def load_sparseCOO_array(path):\n",
    "    import sparse\n",
    "    sparse.load_npz(path)\n",
    "\n",
    "def save_sparseCOO_array(obj, path):\n",
    "    import sparse\n",
    "    sparse.save_npz(path, obj)\n",
    "\n",
    "## Save a sparse.COO array to a richfile\n",
    "path_sparse = '/home/rich/Desktop/test4/data_sparse.richfile'\n",
    "\n",
    "import sparse\n",
    "data_sparse = {\n",
    "    \"some_sparse_data\": sparse.COO(np.random.randint(0, 10, (100, 100))),\n",
    "}\n",
    "\n",
    "r = rf.RichFile(path=path_sparse)\n",
    "## Define the new type for the sparse.COO array\n",
    "### NOTE: all of these fields are required\n",
    "r.register_type(\n",
    "    type_name=\"sparseCOO_array\",\n",
    "    function_load=load_sparseCOO_array,\n",
    "    function_save=save_sparseCOO_array,\n",
    "    object_type=sparse.COO,\n",
    "    suffix=\".npz\",\n",
    "    library=\"sparse\",\n",
    ")\n",
    "r.save(obj=data_sparse)"
   ]
  },
  {
   "cell_type": "markdown",
   "metadata": {},
   "source": [
    "## D: Details\n",
    "DETAILED PYTHON CONVENTIONS FOR NERDS:\n",
    "\n",
    "The system is based on the following principles: \n",
    "- Each leaf object is saved as a separate file \n",
    "- The folder structure mirrors the nested object structure:\n",
    "    - Lists, tuples, and sets are saved as folders with elements saved as files\n",
    "      or folders with integer names\n",
    "    - Dicts are saved as folders with items saved as folders with integer names.\n",
    "      Dict items are saved as folders containing 2 elements.\n",
    "- There is a single metadata file for each folder describing the properties of\n",
    "  each element in the folder\n",
    "    - The metadata file is a JSON file named \"metadata.richfile\" and contains\n",
    "      the following items:\n",
    "        - \"elements\": a dictionary with keys that are the names of the files /\n",
    "          folders in the directory and values that are dictionaries with the\n",
    "          following items:\n",
    "            - \"type\": A string describing type of the element. The string used\n",
    "              should be a valid richfile type, as it is determines how the\n",
    "              element is loaded. Examples: \"npy_array\", \"scipy_sparse_array\",\n",
    "              \"list\", \"object\", \"float\", etc.\n",
    "            - \"library\": A string describing the library used to save the\n",
    "              element. Examples: \"numpy\", \"scipy\", \"python\", \"json\" (for native\n",
    "              python types), etc.\n",
    "           - \"version\": A string describing the version of the library used to\n",
    "              save the element. This is used to determine how the element is\n",
    "              loaded. Examples: \"1.0.0\", \"0.1.0\", etc.\n",
    "            - \"index\": An integer that is used to determine the order of the\n",
    "              elements when loading them. Example: 0, 1, 2, etc.\n",
    "        - \"type\": A string describing the type of the folder. The string used\n",
    "          should be a valid richfile type, as it determines how the folder is\n",
    "          loaded. Examples: \"list\", \"dict\", \"tuple\", etc. (Only container-like\n",
    "          types)\n",
    "        - \"library\": A string describing the library used to save the folder.\n",
    "          Examples: \"python\"\n",
    "        - \"version\": A string describing the version of the library used to for\n",
    "          the container. This is used to determine how the folder is loaded.\n",
    "          Examples: \"3.12\", \"3.13\", etc.\n",
    "        - \"version_richfile\": A string describing the version of the richfile\n",
    "          format used to save the metadata file. Examples: \"1.0.0\", \"0.1.0\",\n",
    "          etc.\n",
    "- Loading proceeds as follows:\n",
    "    - enter outer folder\n",
    "    - load metadata file\n",
    "    - check that files / folders in the directory match the metadata\n",
    "    - if folder represents a list, tuple, or set:\n",
    "        - elements are expected to be named as integers with an appropriate\n",
    "          suffix: 0.list, 1.npy, 2.dict, 3.npz, 4.json, etc.\n",
    "        - load each element in the order specified by the metadata index\n",
    "        - if an element is container-like, enter its folder, load, and package\n",
    "          it.\n",
    "    - if folder represents a dict:\n",
    "        - each item will be saved as a folder containing a single dict item\n",
    "        - each dict item folder will contain 2 elements: key (0) and value (1)\n",
    "    - load elements:\n",
    "        - richfile types (eg. \"array\", \"sparse_array\", etc.) are saved and\n",
    "          loaded using numpy, scipy, etc. as appropriate.\n",
    "        - an appropriate suffix will be added to the file or folder name.\n",
    "        - native python types (eg. \"float\", \"int\", \"str\", etc.) are saved as\n",
    "          JSON files and loaded using the json library."
   ]
  },
  {
   "cell_type": "markdown",
   "metadata": {},
   "source": []
  }
 ],
 "metadata": {
  "kernelspec": {
   "display_name": "Python 3",
   "language": "python",
   "name": "python3"
  },
  "language_info": {
   "codemirror_mode": {
    "name": "ipython",
    "version": 3
   },
   "file_extension": ".py",
   "mimetype": "text/x-python",
   "name": "python",
   "nbconvert_exporter": "python",
   "pygments_lexer": "ipython3",
   "version": "3.11.9"
  }
 },
 "nbformat": 4,
 "nbformat_minor": 2
}
